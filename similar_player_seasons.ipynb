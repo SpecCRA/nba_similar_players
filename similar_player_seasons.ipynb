{
 "cells": [
  {
   "cell_type": "markdown",
   "metadata": {},
   "source": [
    "# Using Machine Learning to Find Similar NBA Players"
   ]
  },
  {
   "cell_type": "code",
   "execution_count": 1,
   "metadata": {},
   "outputs": [],
   "source": [
    "# Import packages\n",
    "\n",
    "import pprint\n",
    "import sys\n",
    "import pandas as pd\n",
    "import numpy as np\n",
    "import matplotlib.pyplot as plt\n",
    "%matplotlib inline\n",
    "\n",
    "# Import scikit-learn moduldes\n",
    "from sklearn.preprocessing import StandardScaler\n",
    "from sklearn.neighbors import KDTree"
   ]
  },
  {
   "cell_type": "markdown",
   "metadata": {},
   "source": [
    "## Import Data"
   ]
  },
  {
   "cell_type": "code",
   "execution_count": 2,
   "metadata": {},
   "outputs": [],
   "source": [
    "# User path to data file\n",
    "file_mini = \"/Users/mini/Documents/nba_data/data_files/player_data_1981-2017.csv\"\n",
    "file_tiny = \"/Users/benjaminxiao/Documents/nba_data/data_files/player_data_1981-2017.csv\"\n",
    "data = pd.read_csv(file_tiny)"
   ]
  },
  {
   "cell_type": "code",
   "execution_count": 3,
   "metadata": {},
   "outputs": [
    {
     "data": {
      "text/plain": [
       "array(['Season', 'Player', 'Pos', 'Age', 'Tm', 'G', 'GS', 'MP_tot',\n",
       "       'FG_tot', 'FGA_tot', 'FG_perc', '3P_tot', '3PA_tot', '3P_perc',\n",
       "       '2P_tot', '2PA_tot', '2P_perc', 'eFG_perc', 'FT_tot', 'FTA_tot',\n",
       "       'FT_perc', 'ORB_tot', 'DRB_tot', 'TRB_tot', 'AST_tot', 'STL_tot',\n",
       "       'BLK_tot', 'TOV_tot', 'PF_tot', 'PTS_tot', 'MP_per_G', 'FG_per_G',\n",
       "       'FGA_per_G', '3P_per_G', '3PA_per_G', '2P_per_G', '2PA_per_G',\n",
       "       'FT_per_G', 'FTA_per_G', 'ORB_per_G', 'DRB_per_G', 'TRB_per_G',\n",
       "       'AST_per_G', 'STL_per_G', 'BLK_per_G', 'TOV_per_G', 'PF_per_G',\n",
       "       'PTS_per_G', 'FG_per_36m', 'FGA_per_36m', '3P_per_36m',\n",
       "       '3PA_per_36m', '2P_per_36m', '2PA_per_36m', 'FT_per_36m',\n",
       "       'FTA_per_36m', 'ORB_per_36m', 'DRB_per_36m', 'TRB_per_36m',\n",
       "       'AST_per_36m', 'STL_per_36m', 'BLK_per_36m', 'TOV_per_36m',\n",
       "       'PF_per_36m', 'PTS_per_36m', 'PER', 'TS_perc', '3PAr', 'FTr',\n",
       "       'ORB_perc', 'DRB_perc', 'TRB_perc', 'AST_perc', 'STL_perc',\n",
       "       'BLK_perc', 'TOV_perc', 'USG_perc', 'OWS', 'DWS', 'WS', 'WS_per_48',\n",
       "       'OBPM', 'DBPM', 'BPM', 'VORP', 'MP', 'FG_per_100p', 'FGA_per_100p',\n",
       "       '3P_per_100p', '3PA_per_100p', '2P_per_100p', '2PA_per_100p',\n",
       "       'FT_per_100p', 'FTA_per_100p', 'ORB_per_100p', 'DRB_per_100p',\n",
       "       'TRB_per_100p', 'AST_per_100p', 'STL_per_100p', 'BLK_per_100p',\n",
       "       'TOV_per_100p', 'PF_per_100p', 'PTS_per_100p', 'ORtg', 'DRtg',\n",
       "       'Rounded_Pos'], dtype=object)"
      ]
     },
     "execution_count": 3,
     "metadata": {},
     "output_type": "execute_result"
    }
   ],
   "source": [
    "data.columns.values"
   ]
  },
  {
   "cell_type": "code",
   "execution_count": 4,
   "metadata": {},
   "outputs": [
    {
     "data": {
      "text/plain": [
       "(15234, 106)"
      ]
     },
     "execution_count": 4,
     "metadata": {},
     "output_type": "execute_result"
    }
   ],
   "source": [
    "data.shape"
   ]
  },
  {
   "cell_type": "markdown",
   "metadata": {},
   "source": [
    "## Data Cleaning"
   ]
  },
  {
   "cell_type": "code",
   "execution_count": 5,
   "metadata": {},
   "outputs": [],
   "source": [
    "# Subset data to G >= 27, MP_tot >= 450\n",
    "data = data[(data.G >= 27) & (data.MP_tot >= 450)]"
   ]
  },
  {
   "cell_type": "markdown",
   "metadata": {},
   "source": [
    "I had to lower the minute limit to 450 to include Speedy Claxton"
   ]
  },
  {
   "cell_type": "code",
   "execution_count": 6,
   "metadata": {},
   "outputs": [],
   "source": [
    "tot_list = data.columns[8:30]"
   ]
  },
  {
   "cell_type": "code",
   "execution_count": 7,
   "metadata": {},
   "outputs": [],
   "source": [
    "per_100p_list = data.columns[-20:-3]"
   ]
  },
  {
   "cell_type": "code",
   "execution_count": 8,
   "metadata": {},
   "outputs": [],
   "source": [
    "drop_cols = [] # Store columns to drop\n",
    "for col in tot_list: # Drop season totals\n",
    "    drop_cols.append(col)\n",
    "    \n",
    "for col in per_100p_list: # Drop per 100 possessions stats\n",
    "    drop_cols.append(col)"
   ]
  },
  {
   "cell_type": "markdown",
   "metadata": {},
   "source": [
    "The extra data was making the player query inaccurate from what I could tell."
   ]
  },
  {
   "cell_type": "code",
   "execution_count": 9,
   "metadata": {},
   "outputs": [],
   "source": [
    "# Drop unwanted columns\n",
    "data.drop(drop_cols, axis = 1, inplace=True)"
   ]
  },
  {
   "cell_type": "code",
   "execution_count": 10,
   "metadata": {},
   "outputs": [],
   "source": [
    "# Reset indices for querying later\n",
    "data = data.reset_index()"
   ]
  },
  {
   "cell_type": "markdown",
   "metadata": {},
   "source": [
    "## Data Preprocessing"
   ]
  },
  {
   "cell_type": "code",
   "execution_count": 11,
   "metadata": {},
   "outputs": [],
   "source": [
    "# Assign feature and target values\n",
    "# Exclude things that are labels and not useful statistics\n",
    "x = data.drop(['Season', 'Player', 'Pos', 'Tm', 'G', 'GS', 'Rounded_Pos'], axis = 1)\n",
    "y = data['Pos']"
   ]
  },
  {
   "cell_type": "code",
   "execution_count": 12,
   "metadata": {},
   "outputs": [
    {
     "data": {
      "text/plain": [
       "array(['index', 'Age', 'MP_tot', 'MP_per_G', 'FG_per_G', 'FGA_per_G',\n",
       "       '3P_per_G', '3PA_per_G', '2P_per_G', '2PA_per_G', 'FT_per_G',\n",
       "       'FTA_per_G', 'ORB_per_G', 'DRB_per_G', 'TRB_per_G', 'AST_per_G',\n",
       "       'STL_per_G', 'BLK_per_G', 'TOV_per_G', 'PF_per_G', 'PTS_per_G',\n",
       "       'FG_per_36m', 'FGA_per_36m', '3P_per_36m', '3PA_per_36m',\n",
       "       '2P_per_36m', '2PA_per_36m', 'FT_per_36m', 'FTA_per_36m',\n",
       "       'ORB_per_36m', 'DRB_per_36m', 'TRB_per_36m', 'AST_per_36m',\n",
       "       'STL_per_36m', 'BLK_per_36m', 'TOV_per_36m', 'PF_per_36m',\n",
       "       'PTS_per_36m', 'PER', 'TS_perc', '3PAr', 'FTr', 'ORB_perc',\n",
       "       'DRB_perc', 'TRB_perc', 'AST_perc', 'STL_perc', 'BLK_perc',\n",
       "       'TOV_perc', 'USG_perc', 'OWS', 'DWS', 'WS', 'WS_per_48', 'OBPM',\n",
       "       'DBPM', 'BPM', 'VORP', 'MP', 'ORtg', 'DRtg'], dtype=object)"
      ]
     },
     "execution_count": 12,
     "metadata": {},
     "output_type": "execute_result"
    }
   ],
   "source": [
    "x.columns.values"
   ]
  },
  {
   "cell_type": "code",
   "execution_count": 13,
   "metadata": {},
   "outputs": [],
   "source": [
    "# Scale data for dimensionality reduction\n",
    "scaler = StandardScaler()\n",
    "x_scaled = scaler.fit_transform(x)"
   ]
  },
  {
   "cell_type": "markdown",
   "metadata": {},
   "source": [
    "## Search with KDTree"
   ]
  },
  {
   "cell_type": "code",
   "execution_count": 14,
   "metadata": {},
   "outputs": [],
   "source": [
    "# Queries KDTree for an array of 30 similar players \n",
    "def kdtree_search(input_data, player_index):\n",
    "    tree = KDTree(input_data, leaf_size=40, metric='euclidean')\n",
    "    dist, ind = tree.query([input_data[player_index]], k = 30)\n",
    "    return ind # Return array of 30 similar players"
   ]
  },
  {
   "cell_type": "code",
   "execution_count": 15,
   "metadata": {},
   "outputs": [],
   "source": [
    "# Get 3 similar players in array of indices\n",
    "# Limits returned 3 players to seasons after 2010-11\n",
    "def get_three_players(ind):\n",
    "    # Gets 8 recent, similar players in order of shortest distance\n",
    "    subset_recent_players = ind[0] >= 7745 # Get players after 2010-11 season\n",
    "    recent_players = ind[0][subset_recent_players]\n",
    "    # Get first three players in array\n",
    "    return recent_players[:8]"
   ]
  },
  {
   "cell_type": "code",
   "execution_count": 16,
   "metadata": {},
   "outputs": [],
   "source": [
    "# Get the indices of our target players\n",
    "def get_player_indices(df, target_player, target_season):\n",
    "    return df.index[(df['Player'] == target_player) & (df['Season'] == target_season)][0]"
   ]
  },
  {
   "cell_type": "code",
   "execution_count": 17,
   "metadata": {},
   "outputs": [],
   "source": [
    "# Inputs similar players into a list of tuples\n",
    "def similar_players(df, array):\n",
    "    data = []\n",
    "    for i in array:\n",
    "        player_name = df['Player'].iloc[i] # Similar player's name\n",
    "        player_season = df['Season'].iloc[i] # Similar player's season registered\n",
    "        player_team = df['Tm'].iloc[i] # Similar player's team that season\n",
    "        data.append(tuple((player_name, player_season, player_team)))\n",
    "    # Return list of tuples including player name, team, and season\n",
    "    return data"
   ]
  },
  {
   "cell_type": "code",
   "execution_count": 18,
   "metadata": {},
   "outputs": [],
   "source": [
    "\"\"\"\n",
    "Takes a DataFrame, target player name, and target player season, and outputs a dictionary. \n",
    "The dictionary has the target players as keys, and tuples of similar player names, seasons registerd, teams that year.\n",
    "\"\"\"\n",
    "def search_for_similar_players(df, target_player, target_season, storage_dict):\n",
    "    idx = get_player_indices(df, target_player, target_season)\n",
    "    array = kdtree_search(x_scaled, idx)\n",
    "    similar_player_indices = get_three_players(array)\n",
    "    # Store to storage_dict\n",
    "    storage_dict[target_player] = similar_players(df, similar_player_indices)"
   ]
  },
  {
   "cell_type": "code",
   "execution_count": 45,
   "metadata": {},
   "outputs": [],
   "source": [
    "# Takes the stored data and removes data points that output the same player as our target player\n",
    "def rm_same_player(players_dict, players_list):\n",
    "    for player in players_list:\n",
    "        #print(player)\n",
    "        #print(players_dict[player]) # Access list of tuples\n",
    "        for i, similar_player in enumerate(players_dict[player]):\n",
    "            #print(similar_player[0]) # access each player\n",
    "            #print(similar_player) # access tuples\n",
    "            if similar_player[0] == player:\n",
    "                players_dict[player].pop(i)"
   ]
  },
  {
   "cell_type": "markdown",
   "metadata": {},
   "source": [
    "## Gathering Similar Players for Two Championship Teams"
   ]
  },
  {
   "cell_type": "code",
   "execution_count": 20,
   "metadata": {},
   "outputs": [],
   "source": [
    "\"\"\"\n",
    "1. Create roster list of 2003 Spurs minus Tim Duncan.\n",
    "2. Create another roster list of the 2011 Mavericks minus Dirk.\n",
    "3. These are the major contributing players for the majority of the playoffs. \n",
    "\"\"\"\n",
    "\n",
    "spurs_roster_list = ['Tony Parker', 'David Robinson*', 'Stephen Jackson', 'Manu Ginobili', \\\n",
    "              'Malik Rose', 'Speedy Claxton', 'Bruce Bowen']\n",
    "\n",
    "mavs_roster_list = ['Jason Terry', 'Shawn Marion', 'Tyson Chandler', 'J.J. Barea', \\\n",
    "                   'Jason Kidd', 'DeShawn Stevenson', 'Peja Stojakovic']\n",
    "\n",
    "spurs_season = '2002-03'\n",
    "mavs_season = '2010-11'\n",
    "\n",
    "# Create an empty dictionary with roster list\n",
    "similar_players_spurs = dict((el,None) for el in spurs_roster_list)\n",
    "similar_players_mavs = dict((el, None) for el in mavs_roster_list)"
   ]
  },
  {
   "cell_type": "code",
   "execution_count": 49,
   "metadata": {},
   "outputs": [],
   "source": [
    "# Call function for 2003 Spurs\n",
    "for name in spurs_roster_list:\n",
    "    search_for_similar_players(data, name, spurs_season, similar_players_spurs)\n",
    "    \n",
    "# Remove the same players from the list\n",
    "rm_same_player(similar_players_spurs, spurs_roster_list)"
   ]
  },
  {
   "cell_type": "code",
   "execution_count": 53,
   "metadata": {},
   "outputs": [],
   "source": [
    "# Call function for 2011 Mavs\n",
    "for name in mavs_roster_list:\n",
    "    search_for_similar_players(data, name, mavs_season, similar_players_mavs)\n",
    "    \n",
    "# Remove the same players from the list\n",
    "rm_same_player(similar_players_mavs, mavs_roster_list)"
   ]
  },
  {
   "cell_type": "code",
   "execution_count": 50,
   "metadata": {},
   "outputs": [
    {
     "name": "stdout",
     "output_type": "stream",
     "text": [
      "{'Bruce Bowen': [('Anthony Parker', '2009-10', 'CLE'),\n",
      "                 ('Jared Dudley', '2015-16', 'WAS'),\n",
      "                 ('Shane Battier', '2010-11', 'TOT'),\n",
      "                 ('Shane Battier', '2008-09', 'HOU'),\n",
      "                 ('Shane Battier', '2009-10', 'HOU'),\n",
      "                 ('Courtney Lee', '2014-15', 'MEM'),\n",
      "                 ('Ime Udoka', '2006-07', 'POR')],\n",
      " 'David Robinson*': [('Tim Duncan', '2015-16', 'SAS'),\n",
      "                     ('Samuel Dalembert', '2011-12', 'HOU'),\n",
      "                     ('Ian Mahinmi', '2015-16', 'IND'),\n",
      "                     ('Emeka Okafor', '2010-11', 'NOH'),\n",
      "                     ('Marcus Camby', '2008-09', 'LAC'),\n",
      "                     ('DeAndre Jordan', '2012-13', 'LAC')],\n",
      " 'Malik Rose': [('Nene Hilario', '2012-13', 'WAS'),\n",
      "                ('Luis Scola', '2007-08', 'HOU')],\n",
      " 'Manu Ginobili': [('James Harden', '2009-10', 'OKC'),\n",
      "                   ('Trevor Ariza', '2008-09', 'LAL'),\n",
      "                   ('Mario Chalmers', '2013-14', 'MIA')],\n",
      " 'Speedy Claxton': [('Rodney Stuckey', '2007-08', 'DET'),\n",
      "                    ('Jeff Teague', '2010-11', 'ATL'),\n",
      "                    ('Shaun Livingston', '2010-11', 'CHA'),\n",
      "                    ('Cory Joseph', '2013-14', 'SAS'),\n",
      "                    ('MarShon Brooks', '2012-13', 'BRK')],\n",
      " 'Stephen Jackson': [('O.J. Mayo', '2011-12', 'MEM'),\n",
      "                     ('Kent Bazemore', '2015-16', 'ATL'),\n",
      "                     ('Iman Shumpert', '2011-12', 'NYK'),\n",
      "                     ('Khris Middleton', '2014-15', 'MIL'),\n",
      "                     ('Monta Ellis', '2015-16', 'IND'),\n",
      "                     ('Jrue Holiday', '2011-12', 'PHI'),\n",
      "                     ('Corey Brewer', '2014-15', 'TOT'),\n",
      "                     ('Paul George', '2011-12', 'IND')],\n",
      " 'Tony Parker': [('Ty Lawson', '2012-13', 'DEN'),\n",
      "                 ('Jarrett Jack', '2012-13', 'GSW'),\n",
      "                 ('Goran Dragic', '2014-15', 'TOT'),\n",
      "                 ('Darren Collison', '2010-11', 'IND'),\n",
      "                 ('D.J. Augustin', '2010-11', 'CHA'),\n",
      "                 ('Mike Conley', '2014-15', 'MEM'),\n",
      "                 ('Reggie Jackson', '2014-15', 'TOT'),\n",
      "                 ('Jeff Teague', '2012-13', 'ATL')]}\n"
     ]
    }
   ],
   "source": [
    "pprint.pprint(similar_players_spurs)"
   ]
  },
  {
   "cell_type": "code",
   "execution_count": 54,
   "metadata": {},
   "outputs": [
    {
     "name": "stdout",
     "output_type": "stream",
     "text": [
      "{'DeShawn Stevenson': [('DeShawn Stevenson', '2012-13', 'ATL'),\n",
      "                       ('Damjan Rudez', '2014-15', 'IND'),\n",
      "                       ('Mickael Pietrus', '2010-11', 'TOT'),\n",
      "                       ('Keith Bogans', '2012-13', 'BRK'),\n",
      "                       ('Eddie House', '2010-11', 'MIA'),\n",
      "                       ('James Jones', '2009-10', 'MIA'),\n",
      "                       ('Anthony Tolliver', '2014-15', 'TOT')],\n",
      " 'J.J. Barea': [('Jordan Crawford', '2013-14', 'TOT'),\n",
      "                ('J.J. Barea', '2008-09', 'DAL'),\n",
      "                ('Greivis Vasquez', '2013-14', 'TOT'),\n",
      "                ('Randy Foye', '2009-10', 'WAS'),\n",
      "                ('D.J. Augustin', '2014-15', 'TOT')],\n",
      " 'Jason Kidd': [('Jason Kidd', '2009-10', 'DAL'),\n",
      "                ('Jason Kidd', '2011-12', 'DAL'),\n",
      "                ('Nicolas Batum', '2014-15', 'POR'),\n",
      "                ('Andre Iguodala', '2013-14', 'GSW')],\n",
      " 'Jason Terry': [('Jason Terry', '2009-10', 'DAL'),\n",
      "                 ('Raymond Felton', '2012-13', 'NYK'),\n",
      "                 ('Jamal Crawford', '2012-13', 'LAC'),\n",
      "                 ('Mike Conley', '2014-15', 'MEM'),\n",
      "                 ('Deron Williams', '2015-16', 'DAL'),\n",
      "                 ('Nate Robinson', '2012-13', 'CHI')],\n",
      " 'Peja Stojakovic': [('Eddie House', '2010-11', 'MIA'),\n",
      "                     ('Wayne Ellington', '2016-17', 'MIA'),\n",
      "                     ('Anthony Morrow', '2015-16', 'OKC'),\n",
      "                     ('Sasha Vujacic', '2007-08', 'LAL'),\n",
      "                     ('Steve Novak', '2008-09', 'LAC'),\n",
      "                     ('Roger Mason', '2011-12', 'WAS'),\n",
      "                     ('Marco Belinelli', '2014-15', 'SAS')],\n",
      " 'Shawn Marion': [('David West', '2011-12', 'IND'),\n",
      "                  ('Shawn Marion', '2009-10', 'DAL'),\n",
      "                  ('David West', '2014-15', 'IND'),\n",
      "                  ('Chris Webber', '2006-07', 'TOT')],\n",
      " 'Tyson Chandler': [('Tyson Chandler', '2012-13', 'NYK'),\n",
      "                    ('Tyson Chandler', '2014-15', 'DAL'),\n",
      "                    ('Tristan Thompson', '2015-16', 'CLE'),\n",
      "                    ('Ed Davis', '2015-16', 'POR'),\n",
      "                    ('Joel Przybilla', '2008-09', 'POR')]}\n"
     ]
    }
   ],
   "source": [
    "pprint.pprint(similar_players_mavs)"
   ]
  },
  {
   "cell_type": "markdown",
   "metadata": {},
   "source": [
    "### Next Step"
   ]
  },
  {
   "cell_type": "markdown",
   "metadata": {},
   "source": [
    "* How to visualize this data for a blog post?\n",
    "* Drop players who are the same as target player"
   ]
  }
 ],
 "metadata": {
  "kernelspec": {
   "display_name": "Python 3",
   "language": "python",
   "name": "python3"
  },
  "language_info": {
   "codemirror_mode": {
    "name": "ipython",
    "version": 3
   },
   "file_extension": ".py",
   "mimetype": "text/x-python",
   "name": "python",
   "nbconvert_exporter": "python",
   "pygments_lexer": "ipython3",
   "version": "3.6.4"
  }
 },
 "nbformat": 4,
 "nbformat_minor": 2
}
