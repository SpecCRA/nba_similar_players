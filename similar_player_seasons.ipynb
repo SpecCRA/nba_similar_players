{
 "cells": [
  {
   "cell_type": "markdown",
   "metadata": {},
   "source": [
    "# Using Machine Learning to Find Similar NBA Players"
   ]
  },
  {
   "cell_type": "code",
   "execution_count": 1,
   "metadata": {},
   "outputs": [],
   "source": [
    "# Import packages\n",
    "\n",
    "import sys\n",
    "import pandas as pd\n",
    "import numpy as np\n",
    "import matplotlib.pyplot as plt\n",
    "%matplotlib inline\n",
    "\n",
    "# Import scikit-learn moduldes\n",
    "from sklearn.preprocessing import StandardScaler\n",
    "from sklearn.neighbors import KDTree\n",
    "from sklearn.model_selection import GridSearchCV\n",
    "from sklearn.model_selection import RandomizedSearchCV\n",
    "from sklearn.model_selection import StratifiedShuffleSplit\n",
    "from sklearn.decomposition import PCA\n",
    "from sklearn.discriminant_analysis import LinearDiscriminantAnalysis"
   ]
  },
  {
   "cell_type": "markdown",
   "metadata": {},
   "source": [
    "## Import Data"
   ]
  },
  {
   "cell_type": "code",
   "execution_count": 2,
   "metadata": {},
   "outputs": [],
   "source": [
    "# User path to data file\n",
    "file = \"/Users/mini/Documents/nba_data/data_files/player_data_1981-2017.csv\"\n",
    "data = pd.read_csv(file)"
   ]
  },
  {
   "cell_type": "code",
   "execution_count": 3,
   "metadata": {},
   "outputs": [
    {
     "data": {
      "text/plain": [
       "RangeIndex(start=0, stop=15234, step=1)"
      ]
     },
     "execution_count": 3,
     "metadata": {},
     "output_type": "execute_result"
    }
   ],
   "source": [
    "data.index"
   ]
  },
  {
   "cell_type": "code",
   "execution_count": 4,
   "metadata": {},
   "outputs": [
    {
     "data": {
      "text/plain": [
       "array(['Season', 'Player', 'Pos', 'Age', 'Tm', 'G', 'GS', 'MP_tot',\n",
       "       'FG_tot', 'FGA_tot', 'FG_perc', '3P_tot', '3PA_tot', '3P_perc',\n",
       "       '2P_tot', '2PA_tot', '2P_perc', 'eFG_perc', 'FT_tot', 'FTA_tot',\n",
       "       'FT_perc', 'ORB_tot', 'DRB_tot', 'TRB_tot', 'AST_tot', 'STL_tot',\n",
       "       'BLK_tot', 'TOV_tot', 'PF_tot', 'PTS_tot', 'MP_per_G', 'FG_per_G',\n",
       "       'FGA_per_G', '3P_per_G', '3PA_per_G', '2P_per_G', '2PA_per_G',\n",
       "       'FT_per_G', 'FTA_per_G', 'ORB_per_G', 'DRB_per_G', 'TRB_per_G',\n",
       "       'AST_per_G', 'STL_per_G', 'BLK_per_G', 'TOV_per_G', 'PF_per_G',\n",
       "       'PTS_per_G', 'FG_per_36m', 'FGA_per_36m', '3P_per_36m',\n",
       "       '3PA_per_36m', '2P_per_36m', '2PA_per_36m', 'FT_per_36m',\n",
       "       'FTA_per_36m', 'ORB_per_36m', 'DRB_per_36m', 'TRB_per_36m',\n",
       "       'AST_per_36m', 'STL_per_36m', 'BLK_per_36m', 'TOV_per_36m',\n",
       "       'PF_per_36m', 'PTS_per_36m', 'PER', 'TS_perc', '3PAr', 'FTr',\n",
       "       'ORB_perc', 'DRB_perc', 'TRB_perc', 'AST_perc', 'STL_perc',\n",
       "       'BLK_perc', 'TOV_perc', 'USG_perc', 'OWS', 'DWS', 'WS', 'WS_per_48',\n",
       "       'OBPM', 'DBPM', 'BPM', 'VORP', 'MP', 'FG_per_100p', 'FGA_per_100p',\n",
       "       '3P_per_100p', '3PA_per_100p', '2P_per_100p', '2PA_per_100p',\n",
       "       'FT_per_100p', 'FTA_per_100p', 'ORB_per_100p', 'DRB_per_100p',\n",
       "       'TRB_per_100p', 'AST_per_100p', 'STL_per_100p', 'BLK_per_100p',\n",
       "       'TOV_per_100p', 'PF_per_100p', 'PTS_per_100p', 'ORtg', 'DRtg',\n",
       "       'Rounded_Pos'], dtype=object)"
      ]
     },
     "execution_count": 4,
     "metadata": {},
     "output_type": "execute_result"
    }
   ],
   "source": [
    "data.columns.values"
   ]
  },
  {
   "cell_type": "code",
   "execution_count": 5,
   "metadata": {},
   "outputs": [
    {
     "data": {
      "text/plain": [
       "(15234, 106)"
      ]
     },
     "execution_count": 5,
     "metadata": {},
     "output_type": "execute_result"
    }
   ],
   "source": [
    "data.shape"
   ]
  },
  {
   "cell_type": "markdown",
   "metadata": {},
   "source": [
    "## Data Cleaning"
   ]
  },
  {
   "cell_type": "code",
   "execution_count": 6,
   "metadata": {},
   "outputs": [],
   "source": [
    "# Subset data to G >= 27, MP_tot >= 750\n",
    "data = data[(data.G >= 27) & (data.MP_tot >= 750)]"
   ]
  },
  {
   "cell_type": "code",
   "execution_count": 7,
   "metadata": {},
   "outputs": [],
   "source": [
    "tot_list = data.columns[8:30]"
   ]
  },
  {
   "cell_type": "code",
   "execution_count": 8,
   "metadata": {},
   "outputs": [],
   "source": [
    "per_100p_list = data.columns[-20:-3]"
   ]
  },
  {
   "cell_type": "code",
   "execution_count": 9,
   "metadata": {},
   "outputs": [],
   "source": [
    "drop_cols = []\n",
    "for col in tot_list:\n",
    "    drop_cols.append(col)\n",
    "    \n",
    "for col in per_100p_list:\n",
    "    drop_cols.append(col)"
   ]
  },
  {
   "cell_type": "code",
   "execution_count": 10,
   "metadata": {},
   "outputs": [],
   "source": [
    "# Drop unwanted columns\n",
    "data.drop(drop_cols, axis = 1, inplace=True)"
   ]
  },
  {
   "cell_type": "code",
   "execution_count": 11,
   "metadata": {},
   "outputs": [],
   "source": [
    "# Reset indices for querying later\n",
    "data = data.reset_index()"
   ]
  },
  {
   "cell_type": "code",
   "execution_count": 12,
   "metadata": {},
   "outputs": [
    {
     "data": {
      "text/plain": [
       "9872"
      ]
     },
     "execution_count": 12,
     "metadata": {},
     "output_type": "execute_result"
    }
   ],
   "source": [
    "len(data)"
   ]
  },
  {
   "cell_type": "code",
   "execution_count": 13,
   "metadata": {
    "scrolled": true
   },
   "outputs": [
    {
     "data": {
      "text/plain": [
       "['index',\n",
       " 'Season',\n",
       " 'Player',\n",
       " 'Pos',\n",
       " 'Age',\n",
       " 'Tm',\n",
       " 'G',\n",
       " 'GS',\n",
       " 'MP_tot',\n",
       " 'MP_per_G',\n",
       " 'FG_per_G',\n",
       " 'FGA_per_G',\n",
       " '3P_per_G',\n",
       " '3PA_per_G',\n",
       " '2P_per_G',\n",
       " '2PA_per_G',\n",
       " 'FT_per_G',\n",
       " 'FTA_per_G',\n",
       " 'ORB_per_G',\n",
       " 'DRB_per_G',\n",
       " 'TRB_per_G',\n",
       " 'AST_per_G',\n",
       " 'STL_per_G',\n",
       " 'BLK_per_G',\n",
       " 'TOV_per_G',\n",
       " 'PF_per_G',\n",
       " 'PTS_per_G',\n",
       " 'FG_per_36m',\n",
       " 'FGA_per_36m',\n",
       " '3P_per_36m',\n",
       " '3PA_per_36m',\n",
       " '2P_per_36m',\n",
       " '2PA_per_36m',\n",
       " 'FT_per_36m',\n",
       " 'FTA_per_36m',\n",
       " 'ORB_per_36m',\n",
       " 'DRB_per_36m',\n",
       " 'TRB_per_36m',\n",
       " 'AST_per_36m',\n",
       " 'STL_per_36m',\n",
       " 'BLK_per_36m',\n",
       " 'TOV_per_36m',\n",
       " 'PF_per_36m',\n",
       " 'PTS_per_36m',\n",
       " 'PER',\n",
       " 'TS_perc',\n",
       " '3PAr',\n",
       " 'FTr',\n",
       " 'ORB_perc',\n",
       " 'DRB_perc',\n",
       " 'TRB_perc',\n",
       " 'AST_perc',\n",
       " 'STL_perc',\n",
       " 'BLK_perc',\n",
       " 'TOV_perc',\n",
       " 'USG_perc',\n",
       " 'OWS',\n",
       " 'DWS',\n",
       " 'WS',\n",
       " 'WS_per_48',\n",
       " 'OBPM',\n",
       " 'DBPM',\n",
       " 'BPM',\n",
       " 'VORP',\n",
       " 'MP',\n",
       " 'ORtg',\n",
       " 'DRtg',\n",
       " 'Rounded_Pos']"
      ]
     },
     "execution_count": 13,
     "metadata": {},
     "output_type": "execute_result"
    }
   ],
   "source": [
    "list(data.columns)"
   ]
  },
  {
   "cell_type": "markdown",
   "metadata": {},
   "source": [
    "## Data Preprocessing"
   ]
  },
  {
   "cell_type": "code",
   "execution_count": 14,
   "metadata": {},
   "outputs": [],
   "source": [
    "# Assign feature and target values\n",
    "# Exclude things that are labels and not useful statistics\n",
    "x = data.drop(['Season', 'Player', 'Pos', 'Tm', 'G', 'GS', 'Rounded_Pos'], axis = 1)\n",
    "y = data['Pos']"
   ]
  },
  {
   "cell_type": "code",
   "execution_count": 15,
   "metadata": {},
   "outputs": [
    {
     "data": {
      "text/plain": [
       "array(['index', 'Age', 'MP_tot', 'MP_per_G', 'FG_per_G', 'FGA_per_G',\n",
       "       '3P_per_G', '3PA_per_G', '2P_per_G', '2PA_per_G', 'FT_per_G',\n",
       "       'FTA_per_G', 'ORB_per_G', 'DRB_per_G', 'TRB_per_G', 'AST_per_G',\n",
       "       'STL_per_G', 'BLK_per_G', 'TOV_per_G', 'PF_per_G', 'PTS_per_G',\n",
       "       'FG_per_36m', 'FGA_per_36m', '3P_per_36m', '3PA_per_36m',\n",
       "       '2P_per_36m', '2PA_per_36m', 'FT_per_36m', 'FTA_per_36m',\n",
       "       'ORB_per_36m', 'DRB_per_36m', 'TRB_per_36m', 'AST_per_36m',\n",
       "       'STL_per_36m', 'BLK_per_36m', 'TOV_per_36m', 'PF_per_36m',\n",
       "       'PTS_per_36m', 'PER', 'TS_perc', '3PAr', 'FTr', 'ORB_perc',\n",
       "       'DRB_perc', 'TRB_perc', 'AST_perc', 'STL_perc', 'BLK_perc',\n",
       "       'TOV_perc', 'USG_perc', 'OWS', 'DWS', 'WS', 'WS_per_48', 'OBPM',\n",
       "       'DBPM', 'BPM', 'VORP', 'MP', 'ORtg', 'DRtg'], dtype=object)"
      ]
     },
     "execution_count": 15,
     "metadata": {},
     "output_type": "execute_result"
    }
   ],
   "source": [
    "x.columns.values"
   ]
  },
  {
   "cell_type": "code",
   "execution_count": 16,
   "metadata": {},
   "outputs": [],
   "source": [
    "# Scale data for dimensionality reduction\n",
    "scaler = StandardScaler()\n",
    "x_scaled = scaler.fit_transform(x)"
   ]
  },
  {
   "cell_type": "markdown",
   "metadata": {},
   "source": [
    "## Dimension Reduction"
   ]
  },
  {
   "cell_type": "code",
   "execution_count": 17,
   "metadata": {},
   "outputs": [
    {
     "name": "stdout",
     "output_type": "stream",
     "text": [
      "0.563165173562\n"
     ]
    }
   ],
   "source": [
    "pca = PCA(n_components = 2)\n",
    "pca.fit(x_scaled)\n",
    "\n",
    "x_pca = pca.transform(x_scaled)\n",
    "print(pca.explained_variance_ratio_.sum())"
   ]
  },
  {
   "cell_type": "code",
   "execution_count": 18,
   "metadata": {},
   "outputs": [
    {
     "data": {
      "text/plain": [
       "array([ 0.33363118,  0.22953399])"
      ]
     },
     "execution_count": 18,
     "metadata": {},
     "output_type": "execute_result"
    }
   ],
   "source": [
    "pca.explained_variance_ratio_"
   ]
  },
  {
   "cell_type": "code",
   "execution_count": 19,
   "metadata": {},
   "outputs": [
    {
     "name": "stderr",
     "output_type": "stream",
     "text": [
      "/anaconda3/lib/python3.6/site-packages/sklearn/covariance/shrunk_covariance_.py:193: UserWarning: Only one sample available. You may want to reshape your data array\n",
      "  warnings.warn(\"Only one sample available. \"\n",
      "/anaconda3/lib/python3.6/site-packages/sklearn/covariance/empirical_covariance_.py:75: UserWarning: Only one sample available. You may want to reshape your data array\n",
      "  warnings.warn(\"Only one sample available. \"\n"
     ]
    }
   ],
   "source": [
    "LDA = LinearDiscriminantAnalysis(n_components = 2, solver = 'eigen' , shrinkage = 'auto')\n",
    "\n",
    "LDA_reduced_df = LDA.fit_transform(x_scaled, y)"
   ]
  },
  {
   "cell_type": "code",
   "execution_count": 20,
   "metadata": {},
   "outputs": [
    {
     "data": {
      "text/plain": [
       "0.66997568881685576"
      ]
     },
     "execution_count": 20,
     "metadata": {},
     "output_type": "execute_result"
    }
   ],
   "source": [
    "LDA.score(x_scaled, y)"
   ]
  },
  {
   "cell_type": "markdown",
   "metadata": {},
   "source": [
    "## Search with KDTree"
   ]
  },
  {
   "cell_type": "code",
   "execution_count": 48,
   "metadata": {},
   "outputs": [
    {
     "name": "stdout",
     "output_type": "stream",
     "text": [
      "[[5632 5915 5553 5460 4846 5182 6645 5121 8491 4869 5129 5730 1712 6404\n",
      "  9018 8464 3055 7758 6774 7804 9000 6211 9084 8580 8773 8887 5056 6864\n",
      "  6478 8199]]\n",
      "[[ 0.          2.4217271   3.17640459  3.29161682  3.47161345  3.47753246\n",
      "   3.56638524  3.57915223  3.6026154   3.64279319  3.65137503  3.67174047\n",
      "   3.69002173  3.75228337  3.76896113  3.78835012  3.84860257  3.88219377\n",
      "   3.91786142  3.91816122  3.92752207  3.94632954  4.00130952  4.02105461\n",
      "   4.10328949  4.18792061  4.19275674  4.24449254  4.25133234  4.25596283]]\n"
     ]
    }
   ],
   "source": [
    "# Use KDTree to find nearest neighbors\n",
    "tree = KDTree(x_scaled, leaf_size=40, metric='euclidean')\n",
    "dist, ind = tree.query([x_scaled[5632]], k = 30)\n",
    "print(ind)\n",
    "print(dist)"
   ]
  },
  {
   "cell_type": "code",
   "execution_count": 22,
   "metadata": {},
   "outputs": [
    {
     "data": {
      "text/html": [
       "<div>\n",
       "<style scoped>\n",
       "    .dataframe tbody tr th:only-of-type {\n",
       "        vertical-align: middle;\n",
       "    }\n",
       "\n",
       "    .dataframe tbody tr th {\n",
       "        vertical-align: top;\n",
       "    }\n",
       "\n",
       "    .dataframe thead th {\n",
       "        text-align: right;\n",
       "    }\n",
       "</style>\n",
       "<table border=\"1\" class=\"dataframe\">\n",
       "  <thead>\n",
       "    <tr style=\"text-align: right;\">\n",
       "      <th></th>\n",
       "      <th>index</th>\n",
       "      <th>Season</th>\n",
       "      <th>Player</th>\n",
       "      <th>Pos</th>\n",
       "      <th>Age</th>\n",
       "      <th>Tm</th>\n",
       "      <th>G</th>\n",
       "      <th>GS</th>\n",
       "      <th>MP_tot</th>\n",
       "      <th>MP_per_G</th>\n",
       "      <th>...</th>\n",
       "      <th>WS</th>\n",
       "      <th>WS_per_48</th>\n",
       "      <th>OBPM</th>\n",
       "      <th>DBPM</th>\n",
       "      <th>BPM</th>\n",
       "      <th>VORP</th>\n",
       "      <th>MP</th>\n",
       "      <th>ORtg</th>\n",
       "      <th>DRtg</th>\n",
       "      <th>Rounded_Pos</th>\n",
       "    </tr>\n",
       "  </thead>\n",
       "  <tbody>\n",
       "    <tr>\n",
       "      <th>5632</th>\n",
       "      <td>8610</td>\n",
       "      <td>2002-03</td>\n",
       "      <td>Tony Parker</td>\n",
       "      <td>PG</td>\n",
       "      <td>20.0</td>\n",
       "      <td>SAS</td>\n",
       "      <td>82.0</td>\n",
       "      <td>82.0</td>\n",
       "      <td>2774.0</td>\n",
       "      <td>33.8</td>\n",
       "      <td>...</td>\n",
       "      <td>7.7</td>\n",
       "      <td>0.134</td>\n",
       "      <td>1.9</td>\n",
       "      <td>-1.7</td>\n",
       "      <td>0.3</td>\n",
       "      <td>1.6</td>\n",
       "      <td>2774.0</td>\n",
       "      <td>108.0</td>\n",
       "      <td>104.0</td>\n",
       "      <td>1</td>\n",
       "    </tr>\n",
       "  </tbody>\n",
       "</table>\n",
       "<p>1 rows × 68 columns</p>\n",
       "</div>"
      ],
      "text/plain": [
       "      index   Season       Player Pos   Age   Tm     G    GS  MP_tot  \\\n",
       "5632   8610  2002-03  Tony Parker  PG  20.0  SAS  82.0  82.0  2774.0   \n",
       "\n",
       "      MP_per_G     ...        WS  WS_per_48  OBPM  DBPM  BPM  VORP      MP  \\\n",
       "5632      33.8     ...       7.7      0.134   1.9  -1.7  0.3   1.6  2774.0   \n",
       "\n",
       "       ORtg   DRtg  Rounded_Pos  \n",
       "5632  108.0  104.0            1  \n",
       "\n",
       "[1 rows x 68 columns]"
      ]
     },
     "execution_count": 22,
     "metadata": {},
     "output_type": "execute_result"
    }
   ],
   "source": [
    "data[(data['Player'] == 'Tony Parker') & (data['Season'] == '2002-03')]"
   ]
  },
  {
   "cell_type": "code",
   "execution_count": 33,
   "metadata": {
    "collapsed": true
   },
   "outputs": [
    {
     "data": {
      "text/plain": [
       "index                 8610\n",
       "Season             2002-03\n",
       "Player         Tony Parker\n",
       "Pos                     PG\n",
       "Age                     20\n",
       "Tm                     SAS\n",
       "G                       82\n",
       "GS                      82\n",
       "MP_tot                2774\n",
       "MP_per_G              33.8\n",
       "FG_per_G               5.9\n",
       "FGA_per_G             12.7\n",
       "3P_per_G                 1\n",
       "3PA_per_G                3\n",
       "2P_per_G               4.9\n",
       "2PA_per_G              9.8\n",
       "FT_per_G               2.7\n",
       "FTA_per_G              3.5\n",
       "ORB_per_G              0.4\n",
       "DRB_per_G              2.2\n",
       "TRB_per_G              2.6\n",
       "AST_per_G              5.3\n",
       "STL_per_G              0.9\n",
       "BLK_per_G                0\n",
       "TOV_per_G              2.4\n",
       "PF_per_G               2.1\n",
       "PTS_per_G             15.5\n",
       "FG_per_36m             6.3\n",
       "FGA_per_36m           13.5\n",
       "3P_per_36m             1.1\n",
       "                  ...     \n",
       "AST_per_36m            5.6\n",
       "STL_per_36m            0.9\n",
       "BLK_per_36m            0.1\n",
       "TOV_per_36m            2.6\n",
       "PF_per_36m             2.3\n",
       "PTS_per_36m           16.5\n",
       "PER                   16.5\n",
       "TS_perc              0.542\n",
       "3PAr                 0.233\n",
       "FTr                  0.278\n",
       "ORB_perc               1.4\n",
       "DRB_perc               7.3\n",
       "TRB_perc               4.5\n",
       "AST_perc              27.9\n",
       "STL_perc               1.4\n",
       "BLK_perc               0.1\n",
       "TOV_perc              14.5\n",
       "USG_perc              22.9\n",
       "OWS                    5.1\n",
       "DWS                    2.6\n",
       "WS                     7.7\n",
       "WS_per_48            0.134\n",
       "OBPM                   1.9\n",
       "DBPM                  -1.7\n",
       "BPM                    0.3\n",
       "VORP                   1.6\n",
       "MP                    2774\n",
       "ORtg                   108\n",
       "DRtg                   104\n",
       "Rounded_Pos              1\n",
       "Name: 5632, Length: 68, dtype: object"
      ]
     },
     "execution_count": 33,
     "metadata": {},
     "output_type": "execute_result"
    }
   ],
   "source": [
    "data.iloc[5632]"
   ]
  },
  {
   "cell_type": "code",
   "execution_count": 31,
   "metadata": {
    "collapsed": true
   },
   "outputs": [
    {
     "data": {
      "text/plain": [
       "index                 8488\n",
       "Season             2002-03\n",
       "Player         Troy Hudson\n",
       "Pos                     PG\n",
       "Age                     26\n",
       "Tm                     MIN\n",
       "G                       79\n",
       "GS                      74\n",
       "MP_tot                2600\n",
       "MP_per_G              32.9\n",
       "FG_per_G               5.2\n",
       "FGA_per_G             12.1\n",
       "3P_per_G               1.2\n",
       "3PA_per_G              3.4\n",
       "2P_per_G               3.9\n",
       "2PA_per_G              8.7\n",
       "FT_per_G               2.6\n",
       "FTA_per_G              2.9\n",
       "ORB_per_G              0.5\n",
       "DRB_per_G              1.8\n",
       "TRB_per_G              2.3\n",
       "AST_per_G              5.7\n",
       "STL_per_G              0.8\n",
       "BLK_per_G              0.1\n",
       "TOV_per_G              2.3\n",
       "PF_per_G                 2\n",
       "PTS_per_G             14.2\n",
       "FG_per_36m             5.7\n",
       "FGA_per_36m           13.2\n",
       "3P_per_36m             1.3\n",
       "                  ...     \n",
       "AST_per_36m            6.3\n",
       "STL_per_36m            0.8\n",
       "BLK_per_36m            0.1\n",
       "TOV_per_36m            2.5\n",
       "PF_per_36m             2.2\n",
       "PTS_per_36m           15.5\n",
       "PER                   15.2\n",
       "TS_perc              0.531\n",
       "3PAr                 0.278\n",
       "FTr                  0.242\n",
       "ORB_perc               1.9\n",
       "DRB_perc                 6\n",
       "TRB_perc                 4\n",
       "AST_perc                27\n",
       "STL_perc               1.2\n",
       "BLK_perc               0.2\n",
       "TOV_perc              14.7\n",
       "USG_perc              21.6\n",
       "OWS                      4\n",
       "DWS                    1.1\n",
       "WS                     5.1\n",
       "WS_per_48            0.094\n",
       "OBPM                   1.8\n",
       "DBPM                  -2.8\n",
       "BPM                     -1\n",
       "VORP                   0.6\n",
       "MP                    2600\n",
       "ORtg                   106\n",
       "DRtg                   108\n",
       "Rounded_Pos              1\n",
       "Name: 5553, Length: 68, dtype: object"
      ]
     },
     "execution_count": 31,
     "metadata": {},
     "output_type": "execute_result"
    }
   ],
   "source": [
    "data.iloc[5553]"
   ]
  },
  {
   "cell_type": "code",
   "execution_count": 47,
   "metadata": {},
   "outputs": [
    {
     "data": {
      "text/plain": [
       "Player    Goran Dragic\n",
       "Season         2014-15\n",
       "Name: 9018, dtype: object"
      ]
     },
     "execution_count": 47,
     "metadata": {},
     "output_type": "execute_result"
    }
   ],
   "source": [
    "data[['Player', 'Season']].iloc[9018]"
   ]
  }
 ],
 "metadata": {
  "kernelspec": {
   "display_name": "Python 3",
   "language": "python",
   "name": "python3"
  },
  "language_info": {
   "codemirror_mode": {
    "name": "ipython",
    "version": 3
   },
   "file_extension": ".py",
   "mimetype": "text/x-python",
   "name": "python",
   "nbconvert_exporter": "python",
   "pygments_lexer": "ipython3",
   "version": "3.6.4"
  }
 },
 "nbformat": 4,
 "nbformat_minor": 2
}
