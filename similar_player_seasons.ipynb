{
 "cells": [
  {
   "cell_type": "markdown",
   "metadata": {},
   "source": [
    "# Using Machine Learning to Find Similar NBA Players"
   ]
  },
  {
   "cell_type": "code",
   "execution_count": 1,
   "metadata": {},
   "outputs": [],
   "source": [
    "# Import packages\n",
    "\n",
    "import sys\n",
    "import pandas as pd\n",
    "import numpy as np\n",
    "import matplotlib.pyplot as plt\n",
    "%matplotlib inline\n",
    "\n",
    "# Import scikit-learn moduldes\n",
    "from sklearn.preprocessing import StandardScaler\n",
    "from sklearn.neighbors import KDTree\n",
    "from sklearn.model_selection import GridSearchCV\n",
    "from sklearn.model_selection import RandomizedSearchCV\n",
    "from sklearn.model_selection import StratifiedShuffleSplit\n",
    "from sklearn.decomposition import PCA\n",
    "from sklearn.discriminant_analysis import LinearDiscriminantAnalysis"
   ]
  },
  {
   "cell_type": "markdown",
   "metadata": {},
   "source": [
    "## Import Data"
   ]
  },
  {
   "cell_type": "code",
   "execution_count": 2,
   "metadata": {},
   "outputs": [],
   "source": [
    "# User path to data file\n",
    "file = \"/Users/mini/Documents/nba_data/data_files/player_data_1981-2017.csv\"\n",
    "data = pd.read_csv(file)"
   ]
  },
  {
   "cell_type": "code",
   "execution_count": 3,
   "metadata": {},
   "outputs": [
    {
     "data": {
      "text/plain": [
       "RangeIndex(start=0, stop=15234, step=1)"
      ]
     },
     "execution_count": 3,
     "metadata": {},
     "output_type": "execute_result"
    }
   ],
   "source": [
    "data.index"
   ]
  },
  {
   "cell_type": "code",
   "execution_count": 4,
   "metadata": {},
   "outputs": [
    {
     "data": {
      "text/plain": [
       "array(['Season', 'Player', 'Pos', 'Age', 'Tm', 'G', 'GS', 'MP_tot',\n",
       "       'FG_tot', 'FGA_tot', 'FG_perc', '3P_tot', '3PA_tot', '3P_perc',\n",
       "       '2P_tot', '2PA_tot', '2P_perc', 'eFG_perc', 'FT_tot', 'FTA_tot',\n",
       "       'FT_perc', 'ORB_tot', 'DRB_tot', 'TRB_tot', 'AST_tot', 'STL_tot',\n",
       "       'BLK_tot', 'TOV_tot', 'PF_tot', 'PTS_tot', 'MP_per_G', 'FG_per_G',\n",
       "       'FGA_per_G', '3P_per_G', '3PA_per_G', '2P_per_G', '2PA_per_G',\n",
       "       'FT_per_G', 'FTA_per_G', 'ORB_per_G', 'DRB_per_G', 'TRB_per_G',\n",
       "       'AST_per_G', 'STL_per_G', 'BLK_per_G', 'TOV_per_G', 'PF_per_G',\n",
       "       'PTS_per_G', 'FG_per_36m', 'FGA_per_36m', '3P_per_36m',\n",
       "       '3PA_per_36m', '2P_per_36m', '2PA_per_36m', 'FT_per_36m',\n",
       "       'FTA_per_36m', 'ORB_per_36m', 'DRB_per_36m', 'TRB_per_36m',\n",
       "       'AST_per_36m', 'STL_per_36m', 'BLK_per_36m', 'TOV_per_36m',\n",
       "       'PF_per_36m', 'PTS_per_36m', 'PER', 'TS_perc', '3PAr', 'FTr',\n",
       "       'ORB_perc', 'DRB_perc', 'TRB_perc', 'AST_perc', 'STL_perc',\n",
       "       'BLK_perc', 'TOV_perc', 'USG_perc', 'OWS', 'DWS', 'WS', 'WS_per_48',\n",
       "       'OBPM', 'DBPM', 'BPM', 'VORP', 'MP', 'FG_per_100p', 'FGA_per_100p',\n",
       "       '3P_per_100p', '3PA_per_100p', '2P_per_100p', '2PA_per_100p',\n",
       "       'FT_per_100p', 'FTA_per_100p', 'ORB_per_100p', 'DRB_per_100p',\n",
       "       'TRB_per_100p', 'AST_per_100p', 'STL_per_100p', 'BLK_per_100p',\n",
       "       'TOV_per_100p', 'PF_per_100p', 'PTS_per_100p', 'ORtg', 'DRtg',\n",
       "       'Rounded_Pos'], dtype=object)"
      ]
     },
     "execution_count": 4,
     "metadata": {},
     "output_type": "execute_result"
    }
   ],
   "source": [
    "data.columns.values"
   ]
  },
  {
   "cell_type": "code",
   "execution_count": 5,
   "metadata": {},
   "outputs": [
    {
     "data": {
      "text/plain": [
       "(15234, 106)"
      ]
     },
     "execution_count": 5,
     "metadata": {},
     "output_type": "execute_result"
    }
   ],
   "source": [
    "data.shape"
   ]
  },
  {
   "cell_type": "markdown",
   "metadata": {},
   "source": [
    "## Data Cleaning"
   ]
  },
  {
   "cell_type": "code",
   "execution_count": 6,
   "metadata": {},
   "outputs": [],
   "source": [
    "# Subset data to G >= 27, MP_tot >= 750\n",
    "data = data[(data.G >= 27) & (data.MP_tot >= 750)]"
   ]
  },
  {
   "cell_type": "code",
   "execution_count": 7,
   "metadata": {},
   "outputs": [],
   "source": [
    "tot_list = data.columns[8:30]"
   ]
  },
  {
   "cell_type": "code",
   "execution_count": 8,
   "metadata": {},
   "outputs": [],
   "source": [
    "per_100p_list = data.columns[-20:-3]"
   ]
  },
  {
   "cell_type": "code",
   "execution_count": 9,
   "metadata": {},
   "outputs": [],
   "source": [
    "drop_cols = []\n",
    "for col in tot_list:\n",
    "    drop_cols.append(col)\n",
    "    \n",
    "for col in per_100p_list:\n",
    "    drop_cols.append(col)"
   ]
  },
  {
   "cell_type": "code",
   "execution_count": 10,
   "metadata": {},
   "outputs": [],
   "source": [
    "# Drop unwanted columns\n",
    "data.drop(drop_cols, axis = 1, inplace=True)"
   ]
  },
  {
   "cell_type": "code",
   "execution_count": 11,
   "metadata": {},
   "outputs": [],
   "source": [
    "# Reset indices for querying later\n",
    "data = data.reset_index()"
   ]
  },
  {
   "cell_type": "code",
   "execution_count": 12,
   "metadata": {},
   "outputs": [
    {
     "data": {
      "text/plain": [
       "9872"
      ]
     },
     "execution_count": 12,
     "metadata": {},
     "output_type": "execute_result"
    }
   ],
   "source": [
    "len(data)"
   ]
  },
  {
   "cell_type": "markdown",
   "metadata": {},
   "source": [
    "## Data Preprocessing"
   ]
  },
  {
   "cell_type": "code",
   "execution_count": 14,
   "metadata": {},
   "outputs": [],
   "source": [
    "# Assign feature and target values\n",
    "# Exclude things that are labels and not useful statistics\n",
    "x = data.drop(['Season', 'Player', 'Pos', 'Tm', 'G', 'GS', 'Rounded_Pos'], axis = 1)\n",
    "y = data['Pos']"
   ]
  },
  {
   "cell_type": "code",
   "execution_count": 15,
   "metadata": {},
   "outputs": [
    {
     "data": {
      "text/plain": [
       "array(['index', 'Age', 'MP_tot', 'MP_per_G', 'FG_per_G', 'FGA_per_G',\n",
       "       '3P_per_G', '3PA_per_G', '2P_per_G', '2PA_per_G', 'FT_per_G',\n",
       "       'FTA_per_G', 'ORB_per_G', 'DRB_per_G', 'TRB_per_G', 'AST_per_G',\n",
       "       'STL_per_G', 'BLK_per_G', 'TOV_per_G', 'PF_per_G', 'PTS_per_G',\n",
       "       'FG_per_36m', 'FGA_per_36m', '3P_per_36m', '3PA_per_36m',\n",
       "       '2P_per_36m', '2PA_per_36m', 'FT_per_36m', 'FTA_per_36m',\n",
       "       'ORB_per_36m', 'DRB_per_36m', 'TRB_per_36m', 'AST_per_36m',\n",
       "       'STL_per_36m', 'BLK_per_36m', 'TOV_per_36m', 'PF_per_36m',\n",
       "       'PTS_per_36m', 'PER', 'TS_perc', '3PAr', 'FTr', 'ORB_perc',\n",
       "       'DRB_perc', 'TRB_perc', 'AST_perc', 'STL_perc', 'BLK_perc',\n",
       "       'TOV_perc', 'USG_perc', 'OWS', 'DWS', 'WS', 'WS_per_48', 'OBPM',\n",
       "       'DBPM', 'BPM', 'VORP', 'MP', 'ORtg', 'DRtg'], dtype=object)"
      ]
     },
     "execution_count": 15,
     "metadata": {},
     "output_type": "execute_result"
    }
   ],
   "source": [
    "x.columns.values"
   ]
  },
  {
   "cell_type": "code",
   "execution_count": 16,
   "metadata": {},
   "outputs": [],
   "source": [
    "# Scale data for dimensionality reduction\n",
    "scaler = StandardScaler()\n",
    "x_scaled = scaler.fit_transform(x)"
   ]
  },
  {
   "cell_type": "markdown",
   "metadata": {},
   "source": [
    "## Search with KDTree"
   ]
  },
  {
   "cell_type": "code",
   "execution_count": 22,
   "metadata": {},
   "outputs": [
    {
     "name": "stdout",
     "output_type": "stream",
     "text": [
      "[[5632 5915 5553 5460 4846 5182 6645 5121 8491 4869 5129 5730 1712 6404\n",
      "  9018 8464 3055 7758 6774 7804 9000 6211 9084 8580 8773 8887 5056 6864\n",
      "  6478 8199]]\n",
      "[[ 0.          2.4217271   3.17640459  3.29161682  3.47161345  3.47753246\n",
      "   3.56638524  3.57915223  3.6026154   3.64279319  3.65137503  3.67174047\n",
      "   3.69002173  3.75228337  3.76896113  3.78835012  3.84860257  3.88219377\n",
      "   3.91786142  3.91816122  3.92752207  3.94632954  4.00130952  4.02105461\n",
      "   4.10328949  4.18792061  4.19275674  4.24449254  4.25133234  4.25596283]]\n"
     ]
    }
   ],
   "source": [
    "# Use KDTree to find nearest neighbors\n",
    "tree = KDTree(x_scaled, leaf_size=40, metric='euclidean')\n",
    "dist, ind = tree.query([x_scaled[5632]], k = 30)\n",
    "print(ind)\n",
    "print(dist)"
   ]
  },
  {
   "cell_type": "code",
   "execution_count": 53,
   "metadata": {},
   "outputs": [
    {
     "data": {
      "text/plain": [
       "array([[1712, 3055, 4846, 4869, 5056, 5121, 5129, 5182, 5460, 5553, 5632,\n",
       "        5730, 5915, 6211, 6404, 6478, 6645, 6774, 6864, 7758, 7804, 8199,\n",
       "        8464, 8491, 8580, 8773, 8887, 9000, 9018, 9084]])"
      ]
     },
     "execution_count": 53,
     "metadata": {},
     "output_type": "execute_result"
    }
   ],
   "source": [
    "ind"
   ]
  },
  {
   "cell_type": "code",
   "execution_count": 54,
   "metadata": {},
   "outputs": [],
   "source": [
    "subset_recent_players = ind[0] > 7745"
   ]
  },
  {
   "cell_type": "code",
   "execution_count": 55,
   "metadata": {},
   "outputs": [],
   "source": [
    "recent_players = ind[0][subset_recent_players]"
   ]
  },
  {
   "cell_type": "code",
   "execution_count": 59,
   "metadata": {},
   "outputs": [
    {
     "data": {
      "text/plain": [
       "array([7758, 7804, 8199, 8464, 8491, 8580, 8773, 8887, 9000, 9018, 9084])"
      ]
     },
     "execution_count": 59,
     "metadata": {},
     "output_type": "execute_result"
    }
   ],
   "source": [
    "recent_players"
   ]
  },
  {
   "cell_type": "code",
   "execution_count": 68,
   "metadata": {},
   "outputs": [],
   "source": [
    "keep_players = recent_players[:3]"
   ]
  },
  {
   "cell_type": "code",
   "execution_count": 69,
   "metadata": {},
   "outputs": [
    {
     "data": {
      "text/plain": [
       "array([7758, 7804, 8199])"
      ]
     },
     "execution_count": 69,
     "metadata": {},
     "output_type": "execute_result"
    }
   ],
   "source": [
    "keep_players"
   ]
  },
  {
   "cell_type": "code",
   "execution_count": 60,
   "metadata": {},
   "outputs": [
    {
     "data": {
      "text/plain": [
       "Season          2010-11\n",
       "Player    D.J. Augustin\n",
       "Name: 7758, dtype: object"
      ]
     },
     "execution_count": 60,
     "metadata": {},
     "output_type": "execute_result"
    }
   ],
   "source": [
    "data[['Season', 'Player']].iloc[7758]"
   ]
  },
  {
   "cell_type": "code",
   "execution_count": 70,
   "metadata": {},
   "outputs": [
    {
     "name": "stdout",
     "output_type": "stream",
     "text": [
      "7758\n",
      "7804\n",
      "8199\n"
     ]
    }
   ],
   "source": [
    "for i in keep_players:\n",
    "    print(i)"
   ]
  },
  {
   "cell_type": "code",
   "execution_count": 71,
   "metadata": {},
   "outputs": [
    {
     "data": {
      "text/plain": [
       "'D.J. Augustin'"
      ]
     },
     "execution_count": 71,
     "metadata": {},
     "output_type": "execute_result"
    }
   ],
   "source": [
    "data.iloc[7758]['Player']"
   ]
  },
  {
   "cell_type": "markdown",
   "metadata": {},
   "source": [
    "* Sort numpy array in reverse order then take the first 3 entries for indices of 3 most similar players\n",
    "* Also remember to take > 7745 for > 2010-11 season"
   ]
  },
  {
   "cell_type": "code",
   "execution_count": 114,
   "metadata": {},
   "outputs": [],
   "source": [
    "# Queries KDTree for an array of 30 similar players \n",
    "def kdtree_search(input_data, player_index):\n",
    "    tree = KDTree(input_data, leaf_size=40, metric='euclidean')\n",
    "    dist, ind = tree.query([input_data[player_index]], k = 30)\n",
    "    return ind # Return array of 30 similar players"
   ]
  },
  {
   "cell_type": "code",
   "execution_count": 115,
   "metadata": {},
   "outputs": [],
   "source": [
    "# Get 3 similar players in array of indices\n",
    "def get_three_players(ind):\n",
    "    # Gets 3 recent, similar players in order of shortest distance\n",
    "    subset_recent_players = ind[0] > 7745 # Get players after 2010-11 season\n",
    "    recent_players = ind[0][subset_recent_players]\n",
    "    # Get first three players in array\n",
    "    return recent_players[:3]"
   ]
  },
  {
   "cell_type": "code",
   "execution_count": 119,
   "metadata": {},
   "outputs": [],
   "source": [
    "def get_player_indices(df, target_player, target_season):\n",
    "    return df.index[(df['Player'] == target_player) & (df['Season'] == season)][0]"
   ]
  },
  {
   "cell_type": "code",
   "execution_count": 136,
   "metadata": {},
   "outputs": [],
   "source": [
    "def search_for_similar_players(df, target_player, target_season):\n",
    "    idx = get_player_indices(df, target_player, target_season)\n",
    "    array = kdtree_search(x_scaled, idx)\n",
    "    return get_three_players(array)"
   ]
  },
  {
   "cell_type": "code",
   "execution_count": 137,
   "metadata": {},
   "outputs": [
    {
     "name": "stdout",
     "output_type": "stream",
     "text": [
      "[8491 9018 8464]\n"
     ]
    }
   ],
   "source": [
    "print(search_for_similar_players(data, \"Tony Parker\", \"2002-03\"))"
   ]
  },
  {
   "cell_type": "code",
   "execution_count": null,
   "metadata": {},
   "outputs": [],
   "source": [
    "def add_data(dictionary, array):\n",
    "    pass"
   ]
  },
  {
   "cell_type": "code",
   "execution_count": 27,
   "metadata": {},
   "outputs": [
    {
     "data": {
      "text/html": [
       "<div>\n",
       "<style scoped>\n",
       "    .dataframe tbody tr th:only-of-type {\n",
       "        vertical-align: middle;\n",
       "    }\n",
       "\n",
       "    .dataframe tbody tr th {\n",
       "        vertical-align: top;\n",
       "    }\n",
       "\n",
       "    .dataframe thead th {\n",
       "        text-align: right;\n",
       "    }\n",
       "</style>\n",
       "<table border=\"1\" class=\"dataframe\">\n",
       "  <thead>\n",
       "    <tr style=\"text-align: right;\">\n",
       "      <th></th>\n",
       "      <th>index</th>\n",
       "      <th>Season</th>\n",
       "      <th>Player</th>\n",
       "      <th>Pos</th>\n",
       "      <th>Age</th>\n",
       "      <th>Tm</th>\n",
       "      <th>G</th>\n",
       "      <th>GS</th>\n",
       "      <th>MP_tot</th>\n",
       "      <th>MP_per_G</th>\n",
       "      <th>...</th>\n",
       "      <th>WS</th>\n",
       "      <th>WS_per_48</th>\n",
       "      <th>OBPM</th>\n",
       "      <th>DBPM</th>\n",
       "      <th>BPM</th>\n",
       "      <th>VORP</th>\n",
       "      <th>MP</th>\n",
       "      <th>ORtg</th>\n",
       "      <th>DRtg</th>\n",
       "      <th>Rounded_Pos</th>\n",
       "    </tr>\n",
       "  </thead>\n",
       "  <tbody>\n",
       "    <tr>\n",
       "      <th>5632</th>\n",
       "      <td>8610</td>\n",
       "      <td>2002-03</td>\n",
       "      <td>Tony Parker</td>\n",
       "      <td>PG</td>\n",
       "      <td>20.0</td>\n",
       "      <td>SAS</td>\n",
       "      <td>82.0</td>\n",
       "      <td>82.0</td>\n",
       "      <td>2774.0</td>\n",
       "      <td>33.8</td>\n",
       "      <td>...</td>\n",
       "      <td>7.7</td>\n",
       "      <td>0.134</td>\n",
       "      <td>1.9</td>\n",
       "      <td>-1.7</td>\n",
       "      <td>0.3</td>\n",
       "      <td>1.6</td>\n",
       "      <td>2774.0</td>\n",
       "      <td>108.0</td>\n",
       "      <td>104.0</td>\n",
       "      <td>1</td>\n",
       "    </tr>\n",
       "  </tbody>\n",
       "</table>\n",
       "<p>1 rows × 68 columns</p>\n",
       "</div>"
      ],
      "text/plain": [
       "      index   Season       Player Pos   Age   Tm     G    GS  MP_tot  \\\n",
       "5632   8610  2002-03  Tony Parker  PG  20.0  SAS  82.0  82.0  2774.0   \n",
       "\n",
       "      MP_per_G     ...        WS  WS_per_48  OBPM  DBPM  BPM  VORP      MP  \\\n",
       "5632      33.8     ...       7.7      0.134   1.9  -1.7  0.3   1.6  2774.0   \n",
       "\n",
       "       ORtg   DRtg  Rounded_Pos  \n",
       "5632  108.0  104.0            1  \n",
       "\n",
       "[1 rows x 68 columns]"
      ]
     },
     "execution_count": 27,
     "metadata": {},
     "output_type": "execute_result"
    }
   ],
   "source": [
    "data[(data['Player'] == 'Tony Parker') & (data['Season'] == '2002-03')]"
   ]
  },
  {
   "cell_type": "code",
   "execution_count": 28,
   "metadata": {},
   "outputs": [
    {
     "data": {
      "text/plain": [
       "Player    Goran Dragic\n",
       "Season         2014-15\n",
       "Name: 9018, dtype: object"
      ]
     },
     "execution_count": 28,
     "metadata": {},
     "output_type": "execute_result"
    }
   ],
   "source": [
    "data[['Player', 'Season']].iloc[9018]"
   ]
  },
  {
   "cell_type": "markdown",
   "metadata": {},
   "source": [
    "### Next Steps"
   ]
  },
  {
   "cell_type": "markdown",
   "metadata": {},
   "source": [
    "* Put KDTree into a function\n",
    "* Get list of 03 Championship Spurs\n",
    "* Get list of 11 Championship Mavs\n",
    "* Search each player for most similar player\n",
    "* Sort ind array > 7745\n",
    "* Grab most similar player and input dictionary {target_player : (similar_player, season)}\n",
    "* Grab top 3 most similar players, in a list of tuples"
   ]
  },
  {
   "cell_type": "markdown",
   "metadata": {},
   "source": [
    "## Gathering Similar Players for Two Championship Teams"
   ]
  },
  {
   "cell_type": "code",
   "execution_count": 86,
   "metadata": {},
   "outputs": [],
   "source": [
    "\"\"\"\n",
    "1. Create roster list of 2003 Spurs minus Tim Duncan.\n",
    "2. Create another roster list of the 2011 Mavericks minus Dirk.\n",
    "3. These are the major contributing players for the majority of the playoffs. \n",
    "\"\"\"\n",
    "\n",
    "spurs_roster_list = ['Tony Parker', 'David Robinson', 'Stephen Jackson', 'Manu Ginobili', \\\n",
    "              'Malik Rose', 'Speedy Claxton', 'Bruce Bowen']\n",
    "\n",
    "mavs_roster_list = ['Jason Terry', 'Shawn Marion', 'Tyson Chandler', 'J.J. Barea', \\\n",
    "                   'Jason Kidd', 'DeShawn Stevenson', 'Peja Stojakovic']\n",
    "\n",
    "# Create an empty dictionary with roster list\n",
    "similar_players_spurs = dict((el,None) for el in spurs_roster_list)\n",
    "similar_players_mavs = dict((el, None) for el in mavs_roster_list)\n",
    "\n",
    "spurs_season = '2002-03'\n",
    "mavs_season = '2010-11'\n",
    "\n",
    "# Create dictionary with player as key and similar players as values"
   ]
  },
  {
   "cell_type": "code",
   "execution_count": null,
   "metadata": {},
   "outputs": [],
   "source": []
  }
 ],
 "metadata": {
  "kernelspec": {
   "display_name": "Python 3",
   "language": "python",
   "name": "python3"
  },
  "language_info": {
   "codemirror_mode": {
    "name": "ipython",
    "version": 3
   },
   "file_extension": ".py",
   "mimetype": "text/x-python",
   "name": "python",
   "nbconvert_exporter": "python",
   "pygments_lexer": "ipython3",
   "version": "3.6.4"
  }
 },
 "nbformat": 4,
 "nbformat_minor": 2
}
